{
 "cells": [
  {
   "cell_type": "code",
   "execution_count": 1,
   "metadata": {},
   "outputs": [],
   "source": [
    "import pandas as pd\n",
    "import requests"
   ]
  },
  {
   "cell_type": "code",
   "execution_count": 5,
   "metadata": {},
   "outputs": [],
   "source": [
    "get_denuncias = requests.get(\"https://3618-186-232-61-4.ngrok-free.app/denuncia\")\n",
    "\n",
    "df = pd.DataFrame(get_denuncias.json())"
   ]
  },
  {
   "cell_type": "code",
   "execution_count": 4,
   "metadata": {},
   "outputs": [
    {
     "data": {
      "text/html": [
       "<div>\n",
       "<style scoped>\n",
       "    .dataframe tbody tr th:only-of-type {\n",
       "        vertical-align: middle;\n",
       "    }\n",
       "\n",
       "    .dataframe tbody tr th {\n",
       "        vertical-align: top;\n",
       "    }\n",
       "\n",
       "    .dataframe thead th {\n",
       "        text-align: right;\n",
       "    }\n",
       "</style>\n",
       "<table border=\"1\" class=\"dataframe\">\n",
       "  <thead>\n",
       "    <tr style=\"text-align: right;\">\n",
       "      <th></th>\n",
       "      <th>identifier</th>\n",
       "      <th>nome</th>\n",
       "      <th>dataEnchente</th>\n",
       "      <th>local</th>\n",
       "      <th>relato</th>\n",
       "      <th>idade</th>\n",
       "      <th>mmChovido</th>\n",
       "      <th>previsao</th>\n",
       "      <th>dataDenuncia</th>\n",
       "    </tr>\n",
       "  </thead>\n",
       "  <tbody>\n",
       "    <tr>\n",
       "      <th>0</th>\n",
       "      <td>3</td>\n",
       "      <td>maraba</td>\n",
       "      <td>2023-06-05</td>\n",
       "      <td>Imperador</td>\n",
       "      <td>foi foda</td>\n",
       "      <td>20</td>\n",
       "      <td>0.0</td>\n",
       "      <td>0.0</td>\n",
       "      <td>2023-5-6</td>\n",
       "    </tr>\n",
       "    <tr>\n",
       "      <th>1</th>\n",
       "      <td>4</td>\n",
       "      <td>alemagno</td>\n",
       "      <td>2023-06-10</td>\n",
       "      <td>Insper</td>\n",
       "      <td>chuveu em..</td>\n",
       "      <td>20</td>\n",
       "      <td>0.0</td>\n",
       "      <td>0.0</td>\n",
       "      <td>2023-5-6</td>\n",
       "    </tr>\n",
       "    <tr>\n",
       "      <th>2</th>\n",
       "      <td>5</td>\n",
       "      <td>josé</td>\n",
       "      <td>2023-06-04</td>\n",
       "      <td>Anny</td>\n",
       "      <td>não</td>\n",
       "      <td>12</td>\n",
       "      <td>0.0</td>\n",
       "      <td>0.0</td>\n",
       "      <td>2023-5-6</td>\n",
       "    </tr>\n",
       "    <tr>\n",
       "      <th>3</th>\n",
       "      <td>6</td>\n",
       "      <td>ju</td>\n",
       "      <td>2023-06-06</td>\n",
       "      <td>Mina</td>\n",
       "      <td>oi :d</td>\n",
       "      <td>18</td>\n",
       "      <td>0.0</td>\n",
       "      <td>0.0</td>\n",
       "      <td>2023-5-6</td>\n",
       "    </tr>\n",
       "    <tr>\n",
       "      <th>4</th>\n",
       "      <td>7</td>\n",
       "      <td>marcelinho</td>\n",
       "      <td>2023-06-06</td>\n",
       "      <td>Imperador</td>\n",
       "      <td>haha</td>\n",
       "      <td>19</td>\n",
       "      <td>0.0</td>\n",
       "      <td>0.0</td>\n",
       "      <td>2023-5-6</td>\n",
       "    </tr>\n",
       "  </tbody>\n",
       "</table>\n",
       "</div>"
      ],
      "text/plain": [
       "   identifier        nome dataEnchente      local       relato idade  \\\n",
       "0           3      maraba   2023-06-05  Imperador     foi foda    20   \n",
       "1           4    alemagno   2023-06-10     Insper  chuveu em..    20   \n",
       "2           5        josé   2023-06-04       Anny          não    12   \n",
       "3           6          ju   2023-06-06       Mina        oi :d    18   \n",
       "4           7  marcelinho   2023-06-06  Imperador         haha    19   \n",
       "\n",
       "   mmChovido  previsao dataDenuncia  \n",
       "0        0.0       0.0     2023-5-6  \n",
       "1        0.0       0.0     2023-5-6  \n",
       "2        0.0       0.0     2023-5-6  \n",
       "3        0.0       0.0     2023-5-6  \n",
       "4        0.0       0.0     2023-5-6  "
      ]
     },
     "execution_count": 4,
     "metadata": {},
     "output_type": "execute_result"
    }
   ],
   "source": [
    "df"
   ]
  }
 ],
 "metadata": {
  "kernelspec": {
   "display_name": "env",
   "language": "python",
   "name": "python3"
  },
  "language_info": {
   "codemirror_mode": {
    "name": "ipython",
    "version": 3
   },
   "file_extension": ".py",
   "mimetype": "text/x-python",
   "name": "python",
   "nbconvert_exporter": "python",
   "pygments_lexer": "ipython3",
   "version": "3.10.2"
  },
  "orig_nbformat": 4
 },
 "nbformat": 4,
 "nbformat_minor": 2
}
